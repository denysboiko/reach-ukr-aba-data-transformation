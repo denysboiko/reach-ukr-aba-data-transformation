{
 "cells": [
  {
   "cell_type": "code",
   "execution_count": 3,
   "metadata": {
    "collapsed": false
   },
   "outputs": [],
   "source": [
    "import pandas as pd\n",
    "import glob\n",
    "import json"
   ]
  },
  {
   "cell_type": "code",
   "execution_count": 3,
   "metadata": {
    "collapsed": false
   },
   "outputs": [],
   "source": [
    "datasets = glob.glob('Datasets/*.xlsx')"
   ]
  },
  {
   "cell_type": "code",
   "execution_count": 4,
   "metadata": {
    "collapsed": false
   },
   "outputs": [],
   "source": [
    "fields = {}\n",
    "writer = pd.ExcelWriter('output3.xlsx', engine='xlsxwriter')\n",
    "\n",
    "for file_name in datasets:\n",
    "    dataset = pd.read_excel(file_name, 0, index_col=None, na_values=['NA'])\n",
    "    field_names = pd.DataFrame(list(dataset))\n",
    "    # list(dataset.columns.values)\n",
    "    dataset_name = file_name.split('_')[2]\n",
    "    field_names[1] = field_names[0].str.split('/').str[0]\n",
    "    field_names[2] = field_names[0].str.split('/').str[1]\n",
    "    form = pd.read_excel('Forms/' + dataset_name + '.xls', sheetname='survey', index_col=None)\n",
    "    form = form[form.name.notnull()]\n",
    "    field_names.columns = ['field_name', 'related_question', 'option_name']\n",
    "    \n",
    "    all_fields = field_names.merge(form, left_on='field_name', right_on='name', how='left', sort=False)\n",
    "    \n",
    "    all_fields['field_type'] = all_fields.type.str.split(' ').str[0]\n",
    "    all_fields.loc[all_fields.option_name.notnull(), 'field_type']= 'select_many_option'\n",
    "    all_fields['options_list'] = all_fields.type.str.split(' ').str[1]\n",
    "    all_fields = all_fields[['field_name', 'related_question','option_name','type','label::English','field_type', 'options_list']]\n",
    "    options = pd.read_excel('Forms/' + dataset_name + '.xls', sheetname='choices', index_col=None)\n",
    "    options = options[['name','label::English']].drop_duplicates()\n",
    "    all_fields = all_fields.merge(options, left_on='option_name', right_on='name', how='left', sort=False)\n",
    "    \n",
    "    all_fields.to_excel(writer, sheet_name=dataset_name, header=True, index=False)\n",
    "    # pd.DataFrame(field_names).to_excel(writer, sheet_name=dataset_name, header=False, index=False)\n",
    "    fields[dataset_name] = field_names\n",
    "\n",
    "writer.save()"
   ]
  },
  {
   "cell_type": "code",
   "execution_count": 6,
   "metadata": {
    "collapsed": false
   },
   "outputs": [],
   "source": [
    "def extract_options(dataset_name):\n",
    "    admin = pd.read_excel('output3.xlsx', dataset_name, index_col=None, na_values=['NA'])\n",
    "    select_ones = admin.loc[admin.field_type.isin(['select_one']),['field_name','options_list']]\n",
    "    so_json = select_ones.to_json(orient='values')\n",
    "    # dict.fromkeys(seq[, value])\n",
    "    # obj = {}\n",
    "    # for question in json.loads(so_json):\n",
    "    #     obj[question[0]] = question[1]\n",
    "    so =json.loads(so_json)\n",
    "    \n",
    "    keys = map(lambda x: x[0], so)\n",
    "    values = map(lambda x: x[1], so)\n",
    "    option_lists = [dict((q[0],q[1]) for q in so)]\n",
    "    \n",
    "    with open(dataset_name+'_questions.json', 'w') as outfile:\n",
    "        json.dump(option_lists, outfile)\n",
    "        options_df = pd.read_excel('Forms/'+dataset_name+'.xls', 'choices')\n",
    "        options = options_df[['list_name','name','label::English']].drop_duplicates()\n",
    "        options.columns= ['list_name','name','label']\n",
    "        options_json = json.loads(options.to_json(orient='records'))\n",
    "        qs = pd.Series(map(lambda x: x['list_name'], options_json)).unique()\n",
    "        obj = [{}]\n",
    "        for q in qs:\n",
    "            obj[0][q] = filter(lambda x: x['list_name']==q, options_json)\n",
    "        with open(dataset_name+'_options.json', 'w') as outfile:\n",
    "            json.dump(obj, outfile)"
   ]
  },
  {
   "cell_type": "code",
   "execution_count": 1,
   "metadata": {
    "collapsed": false
   },
   "outputs": [],
   "source": [
    "def process_dataset(dataset_name): \n",
    "    \n",
    "    questions = pd.read_excel('output3.xlsx', dataset_name, index_col=None, na_values=['NA'])\n",
    "    questions.loc[questions['label::English_x'].isnull() & questions.option_name.isnull(),'label::English_x'] = questions.loc[questions['label::English_x'].isnull() & questions.option_name.isnull(),'field_name']\n",
    "    q_json = questions.loc[questions.option_name.isnull(),['field_name', 'label::English_x']].to_json(orient='values')\n",
    "    header = [dict((q[0],q[1]) for q in json.loads(q_json))]\n",
    "    names = map(lambda x: x[0], json.loads(q_json))\n",
    "    labels = map(lambda x: x[1], json.loads(q_json))\n",
    "    \n",
    "    datasets = glob.glob('Datasets/*'+dataset_name+'*.xlsx')\n",
    "    \n",
    "    data = pd.read_excel(datasets[0], sheetname=0, index_col=None, na_values=['NA'])\n",
    "    data.columns = list(questions.field_name)\n",
    "    with open(dataset_name+'_header.json', 'w') as outfile:\n",
    "        json.dump(header, outfile)\n",
    "    \n",
    "    data[names].to_csv(path_or_buf=dataset_name+'.txt', sep='\\t', encoding='utf-8', index=False)"
   ]
  },
  {
   "cell_type": "code",
   "execution_count": null,
   "metadata": {},
   "outputs": [],
   "source": []
  },
  {
   "cell_type": "code",
   "execution_count": 35,
   "metadata": {
    "collapsed": true
   },
   "outputs": [],
   "source": [
    "process_dataset('Health')"
   ]
  },
  {
   "cell_type": "code",
   "execution_count": 36,
   "metadata": {
    "collapsed": true
   },
   "outputs": [],
   "source": [
    "extract_options('Health')"
   ]
  },
  {
   "cell_type": "code",
   "execution_count": 4,
   "metadata": {},
   "outputs": [],
   "source": [
    "fields = pd.read_excel('output3.xlsx', 'Community', index_col=None, na_values=['NA'])"
   ]
  },
  {
   "cell_type": "code",
   "execution_count": 6,
   "metadata": {},
   "outputs": [],
   "source": [
    "dataset = pd.read_excel('REACH_ABA_Community_Final_Dataset.xlsx', 'Long', index_col=None, na_values=['NA'])"
   ]
  },
  {
   "cell_type": "code",
   "execution_count": 60,
   "metadata": {
    "collapsed": false
   },
   "outputs": [],
   "source": [
    "wide = pd.read_excel('REACH_ABA_Community_Final_Dataset.xlsx', 'Wide', index_col=None, na_values=['NA'])"
   ]
  },
  {
   "cell_type": "code",
   "execution_count": 61,
   "metadata": {},
   "outputs": [],
   "source": [
    "wide = wide[['id','Relevant Settlement','KOATUU','Relevant Community','Extracted Community']]"
   ]
  },
  {
   "cell_type": "code",
   "execution_count": 62,
   "metadata": {
    "collapsed": true
   },
   "outputs": [],
   "source": [
    "d1 = dataset.merge(fields, left_on='Column', right_on='field_name', how='left')\n",
    "d2 = d1.merge(wide, left_on='Row', right_on='id', how='left')"
   ]
  },
  {
   "cell_type": "code",
   "execution_count": 63,
   "metadata": {},
   "outputs": [],
   "source": [
    "writer = pd.ExcelWriter('REACH_ABA_Community_Processed.xlsx', engine='xlsxwriter')"
   ]
  },
  {
   "cell_type": "code",
   "execution_count": 64,
   "metadata": {},
   "outputs": [],
   "source": [
    "d2.to_excel(writer, sheet_name='Long', header=True, index=False)"
   ]
  },
  {
   "cell_type": "code",
   "execution_count": 76,
   "metadata": {},
   "outputs": [],
   "source": [
    "writer.save()"
   ]
  },
  {
   "cell_type": "code",
   "execution_count": 71,
   "metadata": {},
   "outputs": [],
   "source": [
    "question_labels = fields[fields['label::English_x'].notnull()][['field_name', 'label::English_x']]"
   ]
  },
  {
   "cell_type": "code",
   "execution_count": 73,
   "metadata": {},
   "outputs": [],
   "source": [
    "d3 = d2.merge(question_labels, left_on='related_question', right_on='field_name', how='left')"
   ]
  },
  {
   "cell_type": "code",
   "execution_count": 74,
   "metadata": {},
   "outputs": [],
   "source": [
    "writer = pd.ExcelWriter('REACH_ABA_Community_Processed_2.xlsx', engine='xlsxwriter')"
   ]
  },
  {
   "cell_type": "code",
   "execution_count": 75,
   "metadata": {},
   "outputs": [],
   "source": [
    "d3.to_excel(writer, sheet_name='Long', header=True, index=False)"
   ]
  },
  {
   "cell_type": "code",
   "execution_count": null,
   "metadata": {},
   "outputs": [],
   "source": []
  }
 ],
 "metadata": {
  "anaconda-cloud": {},
  "kernelspec": {
   "display_name": "Python [default]",
   "language": "python",
   "name": "python2"
  },
  "language_info": {
   "codemirror_mode": {
    "name": "ipython",
    "version": 2
   },
   "file_extension": ".py",
   "mimetype": "text/x-python",
   "name": "python",
   "nbconvert_exporter": "python",
   "pygments_lexer": "ipython2",
   "version": "2.7.12"
  }
 },
 "nbformat": 4,
 "nbformat_minor": 2
}
